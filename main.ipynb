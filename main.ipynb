{
 "cells": [
  {
   "cell_type": "code",
   "execution_count": 9,
   "metadata": {},
   "outputs": [],
   "source": [
    "import pandas as pd \n",
    "import re\n",
    "import os \n",
    "import glob \n",
    "import json "
   ]
  },
  {
   "cell_type": "code",
   "execution_count": 10,
   "metadata": {},
   "outputs": [],
   "source": [
    "def get_column_names(schemas, ds_name, sorting_key=\"column_position\"):\n",
    "    column_details = schemas[ds_name]\n",
    "    columns = sorted(column_details, key=lambda col: col[sorting_key])\n",
    "    return [col[\"column_name\"] for col in columns]"
   ]
  },
  {
   "cell_type": "code",
   "execution_count": 11,
   "metadata": {},
   "outputs": [],
   "source": [
    "def read_csv(file, schemas):\n",
    "    file_path_list = re.split(\"[/]\", file)\n",
    "    ds_name = file_path_list[-2]\n",
    "    file_name = file_path_list[-1]\n",
    "    columns = get_column_names(schemas, ds_name)\n",
    "    df = pd.read_csv(file, names=columns)\n",
    "    return df "
   ]
  },
  {
   "cell_type": "code",
   "execution_count": 12,
   "metadata": {},
   "outputs": [],
   "source": [
    "def to_json(df, tgt_base_dir, ds_name, file_name):\n",
    "    json_file_path = f\"{tgt_base_dir}/{ds_name}/{file_name}\"\n",
    "    os.makedirs(f\"{tgt_base_dir}/{ds_name}\", exist_ok=True)\n",
    "    df.to_json(\n",
    "        json_file_path,\n",
    "        orient=\"records\",\n",
    "        lines=True\n",
    "    )"
   ]
  },
  {
   "cell_type": "code",
   "execution_count": 21,
   "metadata": {},
   "outputs": [],
   "source": [
    "def file_convertor(src_base_dir, tgt_base_dir, ds_name):\n",
    "    schemas = json.load(open(f\"{src_base_dir}/schemas.json\"))\n",
    "    files = glob.glob(f\"{src_base_dir}/{ds_name}/part-*\")\n",
    "    for file in files:\n",
    "        df = read_csv(file, schemas)\n",
    "        file_name = re.split(\"[/]\", file)[-1]\n",
    "        to_json(df, tgt_base_dir, ds_name, file_name)"
   ]
  },
  {
   "cell_type": "code",
   "execution_count": 22,
   "metadata": {},
   "outputs": [],
   "source": [
    "def process_files(ds_names=None):\n",
    "    src_base_dir = \"data/retail_db\"\n",
    "    tgt_base_dir = \"data/retail_db_json\"\n",
    "    schemas = json.load(open(f\"{src_base_dir}/schemas.json\"))\n",
    "    if not ds_names:\n",
    "        ds_names = schemas.keys()\n",
    "    for ds_name in ds_names:\n",
    "        print(f\"Processing {ds_name}\")\n",
    "        file_convertor(src_base_dir, tgt_base_dir, ds_name)"
   ]
  },
  {
   "cell_type": "code",
   "execution_count": 23,
   "metadata": {},
   "outputs": [
    {
     "name": "stdout",
     "output_type": "stream",
     "text": [
      "Processing orders\n"
     ]
    }
   ],
   "source": [
    "ds_names = [\"orders\"]\n",
    "process_files(ds_names)"
   ]
  },
  {
   "cell_type": "code",
   "execution_count": 24,
   "metadata": {},
   "outputs": [
    {
     "name": "stdout",
     "output_type": "stream",
     "text": [
      "Processing departments\n",
      "Processing categories\n",
      "Processing orders\n",
      "Processing products\n",
      "Processing customers\n",
      "Processing order_items\n"
     ]
    }
   ],
   "source": [
    "process_files()"
   ]
  },
  {
   "cell_type": "code",
   "execution_count": null,
   "metadata": {},
   "outputs": [],
   "source": []
  }
 ],
 "metadata": {
  "kernelspec": {
   "display_name": ".venv",
   "language": "python",
   "name": "python3"
  },
  "language_info": {
   "codemirror_mode": {
    "name": "ipython",
    "version": 3
   },
   "file_extension": ".py",
   "mimetype": "text/x-python",
   "name": "python",
   "nbconvert_exporter": "python",
   "pygments_lexer": "ipython3",
   "version": "3.12.3"
  }
 },
 "nbformat": 4,
 "nbformat_minor": 2
}
